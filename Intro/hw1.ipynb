{
 "cells": [
  {
   "cell_type": "code",
   "execution_count": 1,
   "id": "dccb9166-4e37-4e9d-a3ed-6273aa56bcfe",
   "metadata": {},
   "outputs": [
    {
     "name": "stdout",
     "output_type": "stream",
     "text": [
      "I'm not sure which course you're referring to, but here are a few general steps you can take to find out:\n",
      "\n",
      "1. **Check Enrollment Deadlines**: Visit the course's official webpage to see if there are any specified enrollment deadlines.\n",
      "\n",
      "2. **Contact the Instructor or Institution**: Reach out via email or phone to ask if late enrollment is possible.\n",
      "\n",
      "3. **Review Course Materials**: Sometimes courses allow late joiners if they catch up with the material independently.\n",
      "\n",
      "4. **Consider Future Sessions**: If it's too late for this session, ask about future offerings of the course.\n",
      "\n",
      "If you have specific course details, please provide them, and I may be able to offer more tailored advice.\n"
     ]
    }
   ],
   "source": [
    "import openai\n",
    "import os\n",
    "from openai import OpenAI\n",
    "\n",
    "client = OpenAI()\n",
    "response = client.chat.completions.create(model=\"gpt-4o\",\n",
    "    messages=[\n",
    "        {\"role\": \"user\", \"content\": \"is it too late to join the course?\"}\n",
    "    ]\n",
    ")\n",
    "\n",
    "print(response.choices[0].message.content)"
   ]
  },
  {
   "cell_type": "code",
   "execution_count": null,
   "id": "7fe6f429-6f00-4857-a5e3-e8d57b851fc8",
   "metadata": {},
   "outputs": [],
   "source": []
  }
 ],
 "metadata": {
  "kernelspec": {
   "display_name": "Python 3 (ipykernel)",
   "language": "python",
   "name": "python3"
  },
  "language_info": {
   "codemirror_mode": {
    "name": "ipython",
    "version": 3
   },
   "file_extension": ".py",
   "mimetype": "text/x-python",
   "name": "python",
   "nbconvert_exporter": "python",
   "pygments_lexer": "ipython3",
   "version": "3.12.1"
  }
 },
 "nbformat": 4,
 "nbformat_minor": 5
}
